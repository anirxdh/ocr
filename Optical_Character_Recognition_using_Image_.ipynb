{
  "nbformat": 4,
  "nbformat_minor": 0,
  "metadata": {
    "colab": {
      "name": "Optical_Character_Recognition_using_Image .ipynb",
      "provenance": [],
      "collapsed_sections": []
    },
    "kernelspec": {
      "name": "python3",
      "display_name": "Python 3"
    }
  },
  "cells": [
    {
      "cell_type": "markdown",
      "metadata": {
        "id": "uoUL1t1HPDu8"
      },
      "source": [
        "Anirudh vasudevan"
      ]
    },
    {
      "cell_type": "markdown",
      "metadata": {
        "id": "IfZZ_FCrsG4O"
      },
      "source": [
        "In this project, we will be working on extracting text from images. After extracting the text we will apply some basic functions of OpenCV on that text to enhance it and to get more accurate results. This project will be very useful as it will save time and effort of typing from an image."
      ]
    },
    {
      "cell_type": "code",
      "metadata": {
        "id": "VWiRKccU-hdo"
      },
      "source": [
        "#import requests to install tesseract\n",
        "import requests  "
      ],
      "execution_count": 1,
      "outputs": []
    },
    {
      "cell_type": "markdown",
      "metadata": {
        "id": "Knit4M4CuuzP"
      },
      "source": [
        "We will importing request library for fetching the url for git files and images.\n"
      ]
    },
    {
      "cell_type": "code",
      "metadata": {
        "id": "nK745YIFWAN9"
      },
      "source": [
        "# Downloading tesseract-ocr file\n",
        "r = requests.get(\"https://raw.githubusercontent.com/tesseract-ocr/tessdata/4.00/ind.traineddata\", stream = True)  \n",
        "  \n",
        "# Writing data to file to avoid path isuues\n",
        "with open(\"/usr/share/tesseract-ocr/4.00/tessdata/ind.traineddata\", \"wb\") as file:  \n",
        "    for block in r.iter_content(chunk_size = 1024): \n",
        "         if block:  \n",
        "             file.write(block)"
      ],
      "execution_count": 2,
      "outputs": []
    },
    {
      "cell_type": "markdown",
      "metadata": {
        "id": "oRo-KqacvDMT"
      },
      "source": [
        "We will now download tesseract which is required for pytesseract library to run and save the file at the path in open() function."
      ]
    },
    {
      "cell_type": "code",
      "metadata": {
        "id": "27xb7Dxk8Xlq"
      },
      "source": [
        "# Installing libraries required for optical character recognition\n",
        "! apt install tesseract-ocr libtesseract-dev libmagickwand-dev\n",
        "\n",
        "# Importing IPython to clear output which is not important \n",
        "from IPython.display import HTML, clear_output\n",
        "clear_output()"
      ],
      "execution_count": 3,
      "outputs": []
    },
    {
      "cell_type": "markdown",
      "metadata": {
        "id": "Fd1K_HKRveEK"
      },
      "source": [
        "In this step we will install the required libraries for ocr and we will also import IPython fucntions to clear the undesired."
      ]
    },
    {
      "cell_type": "code",
      "metadata": {
        "id": "S0JWmbpG8f4p"
      },
      "source": [
        "# Installing pytesseract and opencv\n",
        "! pip install pytesseract wand opencv-python\n",
        "clear_output()"
      ],
      "execution_count": 4,
      "outputs": []
    },
    {
      "cell_type": "markdown",
      "metadata": {
        "id": "vhz1mgEQvy81"
      },
      "source": [
        "Now we will install pytesseract and opencv libraries."
      ]
    },
    {
      "cell_type": "code",
      "metadata": {
        "id": "IcZaJ7m68mbD",
        "colab": {
          "base_uri": "https://localhost:8080/",
          "height": 331
        },
        "outputId": "956304bb-c960-4e96-a400-d8e775c16d8f"
      },
      "source": [
        "# Import libraries\n",
        "from PIL import Image\n",
        "import pytesseract\n",
        "import cv2\n",
        "import numpy as np\n",
        "from pytesseract import Output\n",
        "import re\n",
        "!pip uninstall -y Pillow\n",
        "# install the new one\n",
        "!pip install Pillow==5.3.0\n",
        "# import the new one\n",
        "import PIL\n",
        "print(PIL.PILLOW_VERSION)"
      ],
      "execution_count": 5,
      "outputs": [
        {
          "output_type": "stream",
          "name": "stdout",
          "text": [
            "Found existing installation: Pillow 9.0.1\n",
            "Uninstalling Pillow-9.0.1:\n",
            "  Successfully uninstalled Pillow-9.0.1\n",
            "Collecting Pillow==5.3.0\n",
            "  Using cached Pillow-5.3.0-cp37-cp37m-manylinux1_x86_64.whl (2.0 MB)\n",
            "Installing collected packages: Pillow\n",
            "\u001b[31mERROR: pip's dependency resolver does not currently take into account all the packages that are installed. This behaviour is the source of the following dependency conflicts.\n",
            "pytesseract 0.3.9 requires Pillow>=8.0.0, but you have pillow 5.3.0 which is incompatible.\n",
            "bokeh 2.3.3 requires pillow>=7.1.0, but you have pillow 5.3.0 which is incompatible.\n",
            "albumentations 0.1.12 requires imgaug<0.2.7,>=0.2.5, but you have imgaug 0.2.9 which is incompatible.\u001b[0m\n",
            "Successfully installed Pillow-5.3.0\n"
          ]
        },
        {
          "output_type": "display_data",
          "data": {
            "application/vnd.colab-display-data+json": {
              "pip_warning": {
                "packages": [
                  "PIL"
                ]
              }
            }
          },
          "metadata": {}
        },
        {
          "output_type": "stream",
          "name": "stdout",
          "text": [
            "5.3.0\n"
          ]
        }
      ]
    },
    {
      "cell_type": "markdown",
      "metadata": {
        "id": "mNzT7Qp4v-hE"
      },
      "source": [
        "Importing required libraries"
      ]
    },
    {
      "cell_type": "code",
      "metadata": {
        "id": "ddQuOg6WSQ0O",
        "colab": {
          "base_uri": "https://localhost:8080/",
          "height": 167
        },
        "outputId": "0fc900f3-f9a1-417a-8356-001615ae08f3"
      },
      "source": [
        "# Reading image form url\n",
        "image = Image.open(requests.get('http://fabricjs.com/article_assets/2_7.png', stream=True).raw)\n",
        "image = image.resize((300,150))\n",
        "image.save('sample.png')\n",
        "image"
      ],
      "execution_count": 11,
      "outputs": [
        {
          "output_type": "execute_result",
          "data": {
            "image/png": "[encoded data removed]",
            "text/plain": [
              "<PIL.Image.Image image mode=L size=300x150 at 0x7F9C418E6ED0>"
            ]
          },
          "metadata": {},
          "execution_count": 11
        }
      ]
    },
    {
      "cell_type": "markdown",
      "metadata": {
        "id": "cFLMRAxzwCax"
      },
      "source": [
        "In this step we will, open an image resize it and then again save it for further use and visualize it."
      ]
    },
    {
      "cell_type": "code",
      "metadata": {
        "colab": {
          "base_uri": "https://localhost:8080/"
        },
        "id": "S9dB9nMw82jY",
        "outputId": "81f72405-adeb-40c8-88cd-43552a2c00a9"
      },
      "source": [
        "# Simply extracting text from image \n",
        "custom_config = r'-l eng --oem 3 --psm 6' \n",
        "text = pytesseract.image_to_string(image,config=custom_config)\n",
        "print(text)"
      ],
      "execution_count": 12,
      "outputs": [
        {
          "output_type": "stream",
          "name": "stdout",
          "text": [
            "I'm a normal text\n",
            "I'm a bold text\n",
            "\f\n"
          ]
        }
      ]
    },
    {
      "cell_type": "markdown",
      "metadata": {
        "id": "yGhitjxJwQCN"
      },
      "source": [
        "Here we will be extracting the text from image with custom configuration."
      ]
    },
    {
      "cell_type": "code",
      "metadata": {
        "colab": {
          "base_uri": "https://localhost:8080/"
        },
        "id": "hkyQcR4S8rud",
        "outputId": "cf7d239d-218c-4f66-ca95-8acbf4df5c6b"
      },
      "source": [
        "# Extracting text from image and removing irrelevant symbols from characters\n",
        "try:\n",
        "  text=pytesseract.image_to_string(image,lang=\"eng\")\n",
        "  characters_to_remove = \"!()@—*“>+-/,'|£#%$&^_~\"\n",
        "  new_string = text\n",
        "  for character in characters_to_remove:\n",
        "    new_string = new_string.replace(character, \"\")\n",
        "  print(new_string)\n",
        "except IOError as e:\n",
        "    print(\"Error (%s).\" % e)"
      ],
      "execution_count": 25,
      "outputs": [
        {
          "output_type": "stream",
          "name": "stdout",
          "text": [
            "Im a normal text\n",
            "\n",
            "Im a bold text\n",
            "\f\n"
          ]
        }
      ]
    },
    {
      "cell_type": "markdown",
      "metadata": {
        "id": "NPMVQf0XwxTV"
      },
      "source": [
        "Now we will remove unwanted symbols from the text we extracted by replacing the symbol with an empty string."
      ]
    },
    {
      "cell_type": "code",
      "metadata": {
        "id": "fZeJlPbHNbmM"
      },
      "source": [
        "# Now we will perform opencv operations to get text from complex images\n",
        "image = cv2.imread('sample.png')"
      ],
      "execution_count": 14,
      "outputs": []
    },
    {
      "cell_type": "markdown",
      "metadata": {
        "id": "rD30NI1mxVFF"
      },
      "source": [
        "In above cell, we are reading the image into opencv format to process it further. This is required when we need to extract the text from complex images."
      ]
    },
    {
      "cell_type": "code",
      "metadata": {
        "id": "mwil8wnzNfKD",
        "colab": {
          "base_uri": "https://localhost:8080/",
          "height": 167
        },
        "outputId": "050b639f-096e-4b9e-a7fb-d66d4cae47e2"
      },
      "source": [
        "# get grayscale image\n",
        "def get_grayscale(image):\n",
        "    return cv2.cvtColor(image, cv2.COLOR_BGR2GRAY)\n",
        "gray = get_grayscale(image)\n",
        "Image.fromarray(gray)"
      ],
      "execution_count": 15,
      "outputs": [
        {
          "output_type": "execute_result",
          "data": {
            "image/png": "[encoded data removed]",
            "text/plain": [
              "<PIL.Image.Image image mode=L size=300x150 at 0x7F9C40E8CFD0>"
            ]
          },
          "metadata": {},
          "execution_count": 15
        }
      ]
    },
    {
      "cell_type": "markdown",
      "metadata": {
        "id": "7it5Vy-qxtw_"
      },
      "source": [
        "Converting the images to grayscale so that it becomes less complex to process as it will have only two values 0 and 1. cv2.cvtColor() method is used to convert an image from one color space to another. There are more than 150 color-space conversion methods available in OpenCV."
      ]
    },
    {
      "cell_type": "code",
      "metadata": {
        "id": "HTmZDzgJNfM4",
        "colab": {
          "base_uri": "https://localhost:8080/",
          "height": 167
        },
        "outputId": "633111f1-0f8a-4757-e51b-7b3a208bc237"
      },
      "source": [
        "# noise removal\n",
        "def remove_noise(image):\n",
        "    return cv2.medianBlur(image,5)\n",
        "noise = remove_noise(gray)\n",
        "Image.fromarray(gray)"
      ],
      "execution_count": 16,
      "outputs": [
        {
          "output_type": "execute_result",
          "data": {
            "image/png": "[encoded data removed]",
            "text/plain": [
              "<PIL.Image.Image image mode=L size=300x150 at 0x7F9C40EF8690>"
            ]
          },
          "metadata": {},
          "execution_count": 16
        }
      ]
    },
    {
      "cell_type": "markdown",
      "metadata": {
        "id": "OVNtI867yF75"
      },
      "source": [
        "Now we will blur the image so that we can remove the noise from the image. Here, the function cv2.medianBlur() computes the median of all the pixels under the kernel window and the central pixel is replaced with this median value. This is highly effective in removing noise."
      ]
    },
    {
      "cell_type": "code",
      "metadata": {
        "id": "Jf6bFQo8OSFW",
        "colab": {
          "base_uri": "https://localhost:8080/",
          "height": 167
        },
        "outputId": "611d85bf-1446-4cc8-da7f-a218ab67c5f0"
      },
      "source": [
        "#thresholding\n",
        "def thresholding(image):\n",
        "    return cv2.threshold(image, 0, 255, cv2.THRESH_BINARY + cv2.THRESH_OTSU)[1]\n",
        "thresh = thresholding(gray)\n",
        "Image.fromarray(thresh)"
      ],
      "execution_count": 17,
      "outputs": [
        {
          "output_type": "execute_result",
          "data": {
            "image/png": "[encoded data removed]",
            "text/plain": [
              "<PIL.Image.Image image mode=L size=300x150 at 0x7F9C40E81E50>"
            ]
          },
          "metadata": {},
          "execution_count": 17
        }
      ]
    },
    {
      "cell_type": "markdown",
      "metadata": {
        "id": "kXdi8EQAyfsG"
      },
      "source": [
        "We will perform threshold transformation here. \n",
        "cv2. If pixel value is greater than a threshold value, it is assigned one value (may be white), else it is assigned another value (may be black). The function used is cv2.threshold. First argument is the source image, which should be a grayscale image.\n"
      ]
    },
    {
      "cell_type": "code",
      "metadata": {
        "id": "CItQhwf0OlZH",
        "colab": {
          "base_uri": "https://localhost:8080/",
          "height": 167
        },
        "outputId": "fa4ee6aa-1d8b-41e0-d0d6-4719a39ebbc8"
      },
      "source": [
        "#erosion\n",
        "def erode(image):\n",
        "    kernel = np.ones((5,5),np.uint8)\n",
        "    return cv2.erode(image, kernel, iterations = 1)\n",
        "erode = erode(gray)\n",
        "Image.fromarray(erode)"
      ],
      "execution_count": 18,
      "outputs": [
        {
          "output_type": "execute_result",
          "data": {
            "image/png": "[encoded data removed]",
            "text/plain": [
              "<PIL.Image.Image image mode=L size=300x150 at 0x7F9C40E96B50>"
            ]
          },
          "metadata": {},
          "execution_count": 18
        }
      ]
    },
    {
      "cell_type": "markdown",
      "metadata": {
        "id": "R0Q9LXjxK_J_"
      },
      "source": [
        "Here we are doing erode transformation. \n",
        "cv2.erode() method is used to perform erosion on the image. The basic idea of erosion is just like soil erosion only, it erodes away the boundaries of foreground object (Always try to keep foreground in white). It is normally performed on binary images. It needs two inputs, one is our original image, second one is called structuring element or kernel which decides the nature of operation."
      ]
    },
    {
      "cell_type": "code",
      "metadata": {
        "id": "jFBP1MzaOpgg",
        "colab": {
          "base_uri": "https://localhost:8080/",
          "height": 167
        },
        "outputId": "668f5d1f-3438-4de5-c664-771bff4921ad"
      },
      "source": [
        "#Morphology\n",
        "def opening(image):\n",
        "    kernel = np.ones((5,5),np.uint8)\n",
        "    return cv2.morphologyEx(image, cv2.MORPH_OPEN, kernel)\n",
        "opening = opening(gray)\n",
        "Image.fromarray(opening)"
      ],
      "execution_count": 19,
      "outputs": [
        {
          "output_type": "execute_result",
          "data": {
            "image/png": "[encoded data removed]",
            "text/plain": [
              "<PIL.Image.Image image mode=L size=300x150 at 0x7F9C40E80E50>"
            ]
          },
          "metadata": {},
          "execution_count": 19
        }
      ]
    },
    {
      "cell_type": "markdown",
      "metadata": {
        "id": "LvGTm87LLb4Y"
      },
      "source": [
        "Here we will perform morphological trandformation. It is useful in opening small holes inside the foreground objects, or small white points on the object."
      ]
    },
    {
      "cell_type": "code",
      "metadata": {
        "id": "8UCEPg6vOpje",
        "colab": {
          "base_uri": "https://localhost:8080/",
          "height": 167
        },
        "outputId": "4bfcfc56-cc36-4fd3-a7b8-52e79ee5af04"
      },
      "source": [
        "#canny edge detection\n",
        "def canny(image):\n",
        "    return cv2.Canny(image, 100, 200)\n",
        "canny = canny(gray)\n",
        "Image.fromarray(canny)"
      ],
      "execution_count": 20,
      "outputs": [
        {
          "output_type": "execute_result",
          "data": {
            "image/png": "[encoded data removed]",
            "text/plain": [
              "<PIL.Image.Image image mode=L size=300x150 at 0x7F9C40EA5F50>"
            ]
          },
          "metadata": {},
          "execution_count": 20
        }
      ]
    },
    {
      "cell_type": "markdown",
      "metadata": {
        "id": "T8Wttdq6MVWn"
      },
      "source": [
        "Canny transformation is used to detect egdes in the image."
      ]
    },
    {
      "cell_type": "code",
      "metadata": {
        "id": "Mi-ulaT79GXP",
        "colab": {
          "base_uri": "https://localhost:8080/",
          "height": 167
        },
        "outputId": "2bc962dd-02ab-4b1a-ccb9-391e9a662bbc"
      },
      "source": [
        "#skew correction\n",
        "def deskew(image):\n",
        "    coords = np.column_stack(np.where(image > 0))\n",
        "    angle = cv2.minAreaRect(coords)[-1]\n",
        "    if angle < -45:\n",
        "        angle = -(90 + angle)\n",
        "    else:\n",
        "        angle = -angle\n",
        "    (h, w) = image.shape[:2]\n",
        "    center = (w // 2, h // 2)\n",
        "    M = cv2.getRotationMatrix2D(center, angle, 1.0)\n",
        "    rotated = cv2.warpAffine(image, M, (w, h), flags=cv2.INTER_CUBIC, borderMode=cv2.BORDER_REPLICATE)\n",
        "    return rotated\n",
        "rotated = deskew(gray)\n",
        "Image.fromarray(rotated)"
      ],
      "execution_count": 21,
      "outputs": [
        {
          "output_type": "execute_result",
          "data": {
            "image/png": "[encoded data removed]",
            "text/plain": [
              "<PIL.Image.Image image mode=L size=300x150 at 0x7F9C40E84110>"
            ]
          },
          "metadata": {},
          "execution_count": 21
        }
      ]
    },
    {
      "cell_type": "markdown",
      "metadata": {
        "id": "-CvFxN_WM4wE"
      },
      "source": [
        "Now we will apply deskewing on the image. Deskewing is a process whereby skew is removed by rotating an image by the same amount as its skew but in the opposite direction. This results in a horizontally and vertically aligned image where the text runs across the page rather than at an angle."
      ]
    },
    {
      "cell_type": "code",
      "metadata": {
        "id": "RDyM-9xtOu4t",
        "colab": {
          "base_uri": "https://localhost:8080/"
        },
        "outputId": "57982c08-87ef-4c2b-d909-d1d346bfb9e8"
      },
      "source": [
        "#template matching\n",
        "def match_template(image, template):\n",
        "    return cv2.matchTemplate(image, template, cv2.TM_CCOEFF_NORMED)\n",
        "match = match_template(gray, gray)\n",
        "match"
      ],
      "execution_count": 22,
      "outputs": [
        {
          "output_type": "execute_result",
          "data": {
            "text/plain": [
              "array([[1.]], dtype=float32)"
            ]
          },
          "metadata": {},
          "execution_count": 22
        }
      ]
    },
    {
      "cell_type": "markdown",
      "metadata": {
        "id": "5ntvKPVzNcRl"
      },
      "source": [
        "Here we are trying to match the image. As we are passing same image for matching we got the similarity of 99.99%. Here, template matching is a method for searching and finding the location of a template image in a larger image. OpenCV comes with a function cv2.matchTemplate() for this purpose. It simply slides the template image over the input image (as in 2D convolution) and compares the template and patch of input image under the template image.  "
      ]
    },
    {
      "cell_type": "code",
      "metadata": {
        "id": "9lkyCo7vLA-K",
        "colab": {
          "base_uri": "https://localhost:8080/",
          "height": 167
        },
        "outputId": "66f0d612-f467-47f4-d345-42be5e8ce6a5"
      },
      "source": [
        "# Drawing rectangle around text\n",
        "img = cv2.imread('sample.png')\n",
        "h, w, c = img.shape\n",
        "boxes = pytesseract.image_to_boxes(img) \n",
        "for b in boxes.splitlines():\n",
        "    b = b.split(' ')\n",
        "    img = cv2.rectangle(img, (int(b[1]), h - int(b[2])), (int(b[3]), h - int(b[4])), (0, 255, 0), 2)\n",
        "Image.fromarray(img)"
      ],
      "execution_count": 23,
      "outputs": [
        {
          "output_type": "execute_result",
          "data": {
            "image/png": "[encoded data removed]",
            "text/plain": [
              "<PIL.Image.Image image mode=RGB size=300x150 at 0x7F9C40EA5290>"
            ]
          },
          "metadata": {},
          "execution_count": 23
        }
      ]
    },
    {
      "cell_type": "markdown",
      "metadata": {
        "id": "Vckm12_Ry_FR"
      },
      "source": [
        "Now we will segregate every character in the text by creating a rectangle around it."
      ]
    },
    {
      "cell_type": "code",
      "metadata": {
        "id": "qLOnR80ZMKff",
        "colab": {
          "base_uri": "https://localhost:8080/",
          "height": 167
        },
        "outputId": "ad2fd0da-bf4e-4204-e28f-9dff83335445"
      },
      "source": [
        "# Drawing pattern on specific pattern or word\n",
        "img = cv2.imread('sample.png')\n",
        "d = pytesseract.image_to_data(img, output_type=Output.DICT)\n",
        "keys = list(d.keys())\n",
        "\n",
        "date_pattern = 'artificially'\n",
        "\n",
        "n_boxes = len(d['text'])\n",
        "for i in range(n_boxes):\n",
        "    if int(d['conf'][i]) > 60:\n",
        "    \tif re.match(date_pattern, d['text'][i]):\n",
        "\t        (x, y, w, h) = (d['left'][i], d['top'][i], d['width'][i], d['height'][i])\n",
        "\t        img = cv2.rectangle(img, (x, y), (x + w, y + h), (0, 255, 0), 2)\n",
        "Image.fromarray(img)"
      ],
      "execution_count": 24,
      "outputs": [
        {
          "output_type": "execute_result",
          "data": {
            "image/png": "[encoded data removed]",
            "text/plain": [
              "<PIL.Image.Image image mode=RGB size=300x150 at 0x7F9C40EA3B50>"
            ]
          },
          "metadata": {},
          "execution_count": 24
        }
      ]
    },
    {
      "cell_type": "markdown",
      "metadata": {
        "id": "vbNP1Uw0zbrN"
      },
      "source": [
        "Similarly we can draw rectangle around the specific pattern or word."
      ]
    },
    {
      "cell_type": "markdown",
      "metadata": {
        "id": "5TGVRpZFzk3v"
      },
      "source": [
        "# Conclusion:"
      ]
    },
    {
      "cell_type": "markdown",
      "metadata": {
        "id": "FgnHlCurzqFy"
      },
      "source": [
        "We started with learning how to install tesseract which is the used for text extraction. Next we took an image and extracted the text from that image. We learned that we need to use certain image transformation function of OpenCV in order to extract text from complex images.\n"
      ]
    },
    {
      "cell_type": "markdown",
      "metadata": {
        "id": "SKG4Kah90cBm"
      },
      "source": [
        "## Scope:"
      ]
    },
    {
      "cell_type": "markdown",
      "metadata": {
        "id": "0DYpV9Ap0mu5"
      },
      "source": [
        "Different organization can use this to extract useful information from the image and store it. Individuals can use it for saving their time and effort for typing."
      ]
    },
    {
      "cell_type": "code",
      "metadata": {
        "id": "YKKGkqUQzoVH"
      },
      "source": [
        ""
      ],
      "execution_count": null,
      "outputs": []
    }
  ]
}